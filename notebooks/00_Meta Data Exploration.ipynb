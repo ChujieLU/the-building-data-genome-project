{
 "cells": [
  {
   "cell_type": "markdown",
   "metadata": {},
   "source": [
    "# Meta Data Exploration\n",
    "\n",
    "Clayton Miller -- miller.clayton@gmail.com\n",
    "\n",
    "This notebook gives an overview of the buildings in this study"
   ]
  },
  {
   "cell_type": "code",
   "execution_count": 2,
   "metadata": {
    "collapsed": true
   },
   "outputs": [],
   "source": [
    "import pandas as pd\n",
    "import seaborn as sns\n",
    "import matplotlib.pyplot as plt\n",
    "import os"
   ]
  },
  {
   "cell_type": "code",
   "execution_count": 3,
   "metadata": {
    "collapsed": true
   },
   "outputs": [],
   "source": [
    "%matplotlib inline"
   ]
  },
  {
   "cell_type": "code",
   "execution_count": 4,
   "metadata": {
    "collapsed": true
   },
   "outputs": [],
   "source": [
    "repos_path = \"/Users/Clayton/temporal-features-for-buildings/\""
   ]
  },
  {
   "cell_type": "code",
   "execution_count": 5,
   "metadata": {
    "collapsed": false
   },
   "outputs": [],
   "source": [
    "meta = pd.read_csv(os.path.join(repos_path,\"data/raw/meta_open.csv\"), index_col='uid', parse_dates=[\"datastart\",\"dataend\"], dayfirst=True)"
   ]
  },
  {
   "cell_type": "code",
   "execution_count": 6,
   "metadata": {
    "collapsed": false
   },
   "outputs": [
    {
     "name": "stdout",
     "output_type": "stream",
     "text": [
      "<class 'pandas.core.frame.DataFrame'>\n",
      "Index: 507 entries, PrimClass_Everett to UnivLab_Aoife\n",
      "Data columns (total 18 columns):\n",
      "dataend                   507 non-null datetime64[ns]\n",
      "datastart                 507 non-null datetime64[ns]\n",
      "energystarscore           26 non-null float64\n",
      "heatingtype               124 non-null object\n",
      "industry                  507 non-null object\n",
      "mainheatingtype           122 non-null object\n",
      "numberoffloors            124 non-null float64\n",
      "occupants                 105 non-null float64\n",
      "primaryspaceusage         507 non-null object\n",
      "rating                    131 non-null object\n",
      "sqft                      507 non-null float64\n",
      "sqm                       507 non-null float64\n",
      "subindustry               507 non-null object\n",
      "timezone                  507 non-null object\n",
      "yearbuilt                 313 non-null object\n",
      "nickname                  507 non-null object\n",
      "primaryspaceuse_abbrev    507 non-null object\n",
      "newweatherfilename        507 non-null object\n",
      "dtypes: datetime64[ns](2), float64(5), object(11)\n",
      "memory usage: 75.3+ KB\n"
     ]
    }
   ],
   "source": [
    "meta.info()"
   ]
  },
  {
   "cell_type": "code",
   "execution_count": 7,
   "metadata": {
    "collapsed": true
   },
   "outputs": [],
   "source": [
    "sns.set_style(\"whitegrid\")"
   ]
  },
  {
   "cell_type": "markdown",
   "metadata": {},
   "source": [
    "# Create Bar Charts\n",
    "\n",
    "Use: http://stanford.edu/~mwaskom/software/seaborn/examples/horizontal_barplot.html"
   ]
  },
  {
   "cell_type": "code",
   "execution_count": 8,
   "metadata": {
    "collapsed": false
   },
   "outputs": [
    {
     "name": "stdout",
     "output_type": "stream",
     "text": [
      "<class 'pandas.core.frame.DataFrame'>\n",
      "Index: 507 entries, PrimClass_Everett to UnivLab_Aoife\n",
      "Data columns (total 18 columns):\n",
      "dataend                   507 non-null datetime64[ns]\n",
      "datastart                 507 non-null datetime64[ns]\n",
      "energystarscore           26 non-null float64\n",
      "heatingtype               124 non-null object\n",
      "industry                  507 non-null object\n",
      "mainheatingtype           122 non-null object\n",
      "numberoffloors            124 non-null float64\n",
      "occupants                 105 non-null float64\n",
      "primaryspaceusage         507 non-null object\n",
      "rating                    131 non-null object\n",
      "sqft                      507 non-null float64\n",
      "sqm                       507 non-null float64\n",
      "subindustry               507 non-null object\n",
      "timezone                  507 non-null object\n",
      "yearbuilt                 313 non-null object\n",
      "nickname                  507 non-null object\n",
      "primaryspaceuse_abbrev    507 non-null object\n",
      "newweatherfilename        507 non-null object\n",
      "dtypes: datetime64[ns](2), float64(5), object(11)\n",
      "memory usage: 75.3+ KB\n"
     ]
    }
   ],
   "source": [
    "meta.info()#[['industry','timezone']].head()"
   ]
  },
  {
   "cell_type": "code",
   "execution_count": 9,
   "metadata": {
    "collapsed": false
   },
   "outputs": [
    {
     "data": {
      "text/html": [
       "<div>\n",
       "<table border=\"1\" class=\"dataframe\">\n",
       "  <thead>\n",
       "    <tr style=\"text-align: right;\">\n",
       "      <th></th>\n",
       "      <th>dataend</th>\n",
       "      <th>datastart</th>\n",
       "      <th>energystarscore</th>\n",
       "      <th>heatingtype</th>\n",
       "      <th>industry</th>\n",
       "      <th>mainheatingtype</th>\n",
       "      <th>numberoffloors</th>\n",
       "      <th>occupants</th>\n",
       "      <th>primaryspaceusage</th>\n",
       "      <th>rating</th>\n",
       "      <th>sqft</th>\n",
       "      <th>sqm</th>\n",
       "      <th>subindustry</th>\n",
       "      <th>timezone</th>\n",
       "      <th>yearbuilt</th>\n",
       "      <th>nickname</th>\n",
       "      <th>primaryspaceuse_abbrev</th>\n",
       "      <th>newweatherfilename</th>\n",
       "    </tr>\n",
       "    <tr>\n",
       "      <th>uid</th>\n",
       "      <th></th>\n",
       "      <th></th>\n",
       "      <th></th>\n",
       "      <th></th>\n",
       "      <th></th>\n",
       "      <th></th>\n",
       "      <th></th>\n",
       "      <th></th>\n",
       "      <th></th>\n",
       "      <th></th>\n",
       "      <th></th>\n",
       "      <th></th>\n",
       "      <th></th>\n",
       "      <th></th>\n",
       "      <th></th>\n",
       "      <th></th>\n",
       "      <th></th>\n",
       "      <th></th>\n",
       "    </tr>\n",
       "  </thead>\n",
       "  <tbody>\n",
       "    <tr>\n",
       "      <th>PrimClass_Everett</th>\n",
       "      <td>2012-12-31 23:00:00</td>\n",
       "      <td>2012-01-01</td>\n",
       "      <td>NaN</td>\n",
       "      <td>NaN</td>\n",
       "      <td>Education</td>\n",
       "      <td>NaN</td>\n",
       "      <td>NaN</td>\n",
       "      <td>NaN</td>\n",
       "      <td>Primary/Secondary Classroom</td>\n",
       "      <td>NaN</td>\n",
       "      <td>105530.0</td>\n",
       "      <td>9804.053590</td>\n",
       "      <td>Primary/Secondary School</td>\n",
       "      <td>America/New_York</td>\n",
       "      <td>NaN</td>\n",
       "      <td>Everett</td>\n",
       "      <td>PrimClass</td>\n",
       "      <td>weather12.csv</td>\n",
       "    </tr>\n",
       "    <tr>\n",
       "      <th>UnivClass_Clifford</th>\n",
       "      <td>2015-12-31 23:00:00</td>\n",
       "      <td>2015-01-01</td>\n",
       "      <td>NaN</td>\n",
       "      <td>NaN</td>\n",
       "      <td>Education</td>\n",
       "      <td>NaN</td>\n",
       "      <td>NaN</td>\n",
       "      <td>NaN</td>\n",
       "      <td>College Classroom</td>\n",
       "      <td>NaN</td>\n",
       "      <td>56969.0</td>\n",
       "      <td>5292.591007</td>\n",
       "      <td>College/University</td>\n",
       "      <td>America/New_York</td>\n",
       "      <td>1967</td>\n",
       "      <td>Clifford</td>\n",
       "      <td>UnivClass</td>\n",
       "      <td>weather2.csv</td>\n",
       "    </tr>\n",
       "    <tr>\n",
       "      <th>Office_Elizabeth</th>\n",
       "      <td>2012-12-31 23:00:00</td>\n",
       "      <td>2012-01-01</td>\n",
       "      <td>NaN</td>\n",
       "      <td>NaN</td>\n",
       "      <td>Commercial Property</td>\n",
       "      <td>NaN</td>\n",
       "      <td>NaN</td>\n",
       "      <td>NaN</td>\n",
       "      <td>Office</td>\n",
       "      <td>NaN</td>\n",
       "      <td>294651.0</td>\n",
       "      <td>27373.961850</td>\n",
       "      <td>Commercial Real Estate</td>\n",
       "      <td>America/Los_Angeles</td>\n",
       "      <td>NaN</td>\n",
       "      <td>Elizabeth</td>\n",
       "      <td>Office</td>\n",
       "      <td>weather22.csv</td>\n",
       "    </tr>\n",
       "    <tr>\n",
       "      <th>Office_Ellie</th>\n",
       "      <td>2012-12-31 23:00:00</td>\n",
       "      <td>2012-01-01</td>\n",
       "      <td>NaN</td>\n",
       "      <td>NaN</td>\n",
       "      <td>Commercial Property</td>\n",
       "      <td>NaN</td>\n",
       "      <td>NaN</td>\n",
       "      <td>NaN</td>\n",
       "      <td>Office</td>\n",
       "      <td>NaN</td>\n",
       "      <td>496517.0</td>\n",
       "      <td>46127.918850</td>\n",
       "      <td>Bank/Financial Services</td>\n",
       "      <td>America/Los_Angeles</td>\n",
       "      <td>NaN</td>\n",
       "      <td>Ellie</td>\n",
       "      <td>Office</td>\n",
       "      <td>weather28.csv</td>\n",
       "    </tr>\n",
       "    <tr>\n",
       "      <th>PrimClass_Elisabeth</th>\n",
       "      <td>2012-12-31 23:00:00</td>\n",
       "      <td>2012-01-01</td>\n",
       "      <td>NaN</td>\n",
       "      <td>NaN</td>\n",
       "      <td>Education</td>\n",
       "      <td>NaN</td>\n",
       "      <td>NaN</td>\n",
       "      <td>NaN</td>\n",
       "      <td>Primary/Secondary Classroom</td>\n",
       "      <td>NaN</td>\n",
       "      <td>233062.0</td>\n",
       "      <td>21652.158990</td>\n",
       "      <td>Primary/Secondary School</td>\n",
       "      <td>America/New_York</td>\n",
       "      <td>NaN</td>\n",
       "      <td>Elisabeth</td>\n",
       "      <td>PrimClass</td>\n",
       "      <td>weather23.csv</td>\n",
       "    </tr>\n",
       "  </tbody>\n",
       "</table>\n",
       "</div>"
      ],
      "text/plain": [
       "                                dataend  datastart  energystarscore  \\\n",
       "uid                                                                   \n",
       "PrimClass_Everett   2012-12-31 23:00:00 2012-01-01              NaN   \n",
       "UnivClass_Clifford  2015-12-31 23:00:00 2015-01-01              NaN   \n",
       "Office_Elizabeth    2012-12-31 23:00:00 2012-01-01              NaN   \n",
       "Office_Ellie        2012-12-31 23:00:00 2012-01-01              NaN   \n",
       "PrimClass_Elisabeth 2012-12-31 23:00:00 2012-01-01              NaN   \n",
       "\n",
       "                    heatingtype             industry mainheatingtype  \\\n",
       "uid                                                                    \n",
       "PrimClass_Everett           NaN            Education             NaN   \n",
       "UnivClass_Clifford          NaN            Education             NaN   \n",
       "Office_Elizabeth            NaN  Commercial Property             NaN   \n",
       "Office_Ellie                NaN  Commercial Property             NaN   \n",
       "PrimClass_Elisabeth         NaN            Education             NaN   \n",
       "\n",
       "                     numberoffloors  occupants            primaryspaceusage  \\\n",
       "uid                                                                           \n",
       "PrimClass_Everett               NaN        NaN  Primary/Secondary Classroom   \n",
       "UnivClass_Clifford              NaN        NaN            College Classroom   \n",
       "Office_Elizabeth                NaN        NaN                       Office   \n",
       "Office_Ellie                    NaN        NaN                       Office   \n",
       "PrimClass_Elisabeth             NaN        NaN  Primary/Secondary Classroom   \n",
       "\n",
       "                    rating      sqft           sqm               subindustry  \\\n",
       "uid                                                                            \n",
       "PrimClass_Everett      NaN  105530.0   9804.053590  Primary/Secondary School   \n",
       "UnivClass_Clifford     NaN   56969.0   5292.591007        College/University   \n",
       "Office_Elizabeth       NaN  294651.0  27373.961850    Commercial Real Estate   \n",
       "Office_Ellie           NaN  496517.0  46127.918850   Bank/Financial Services   \n",
       "PrimClass_Elisabeth    NaN  233062.0  21652.158990  Primary/Secondary School   \n",
       "\n",
       "                                timezone yearbuilt   nickname  \\\n",
       "uid                                                             \n",
       "PrimClass_Everett       America/New_York       NaN    Everett   \n",
       "UnivClass_Clifford      America/New_York      1967   Clifford   \n",
       "Office_Elizabeth     America/Los_Angeles       NaN  Elizabeth   \n",
       "Office_Ellie         America/Los_Angeles       NaN      Ellie   \n",
       "PrimClass_Elisabeth     America/New_York       NaN  Elisabeth   \n",
       "\n",
       "                    primaryspaceuse_abbrev newweatherfilename  \n",
       "uid                                                            \n",
       "PrimClass_Everett                PrimClass      weather12.csv  \n",
       "UnivClass_Clifford               UnivClass       weather2.csv  \n",
       "Office_Elizabeth                    Office      weather22.csv  \n",
       "Office_Ellie                        Office      weather28.csv  \n",
       "PrimClass_Elisabeth              PrimClass      weather23.csv  "
      ]
     },
     "execution_count": 9,
     "metadata": {},
     "output_type": "execute_result"
    }
   ],
   "source": [
    "meta.head()"
   ]
  },
  {
   "cell_type": "code",
   "execution_count": 10,
   "metadata": {
    "collapsed": false
   },
   "outputs": [],
   "source": [
    "df = pd.pivot_table(meta.reset_index(), index='timezone', columns='subindustry', values='uid', aggfunc='count')"
   ]
  },
  {
   "cell_type": "code",
   "execution_count": 11,
   "metadata": {
    "collapsed": false
   },
   "outputs": [
    {
     "data": {
      "text/html": [
       "<div>\n",
       "<table border=\"1\" class=\"dataframe\">\n",
       "  <thead>\n",
       "    <tr style=\"text-align: right;\">\n",
       "      <th>subindustry</th>\n",
       "      <th>Bank/Financial Services</th>\n",
       "      <th>Business Services</th>\n",
       "      <th>City, County, State</th>\n",
       "      <th>College/University</th>\n",
       "      <th>Commercial Real Estate</th>\n",
       "      <th>Corporate Office</th>\n",
       "      <th>Other Government Buildings</th>\n",
       "      <th>Primary/Secondary School</th>\n",
       "      <th>Social Services</th>\n",
       "    </tr>\n",
       "    <tr>\n",
       "      <th>timezone</th>\n",
       "      <th></th>\n",
       "      <th></th>\n",
       "      <th></th>\n",
       "      <th></th>\n",
       "      <th></th>\n",
       "      <th></th>\n",
       "      <th></th>\n",
       "      <th></th>\n",
       "      <th></th>\n",
       "    </tr>\n",
       "  </thead>\n",
       "  <tbody>\n",
       "    <tr>\n",
       "      <th>America/Chicago</th>\n",
       "      <td>NaN</td>\n",
       "      <td>NaN</td>\n",
       "      <td>NaN</td>\n",
       "      <td>68.0</td>\n",
       "      <td>NaN</td>\n",
       "      <td>NaN</td>\n",
       "      <td>NaN</td>\n",
       "      <td>7.0</td>\n",
       "      <td>NaN</td>\n",
       "    </tr>\n",
       "    <tr>\n",
       "      <th>America/Denver</th>\n",
       "      <td>NaN</td>\n",
       "      <td>NaN</td>\n",
       "      <td>NaN</td>\n",
       "      <td>NaN</td>\n",
       "      <td>NaN</td>\n",
       "      <td>NaN</td>\n",
       "      <td>NaN</td>\n",
       "      <td>3.0</td>\n",
       "      <td>NaN</td>\n",
       "    </tr>\n",
       "    <tr>\n",
       "      <th>America/Los_Angeles</th>\n",
       "      <td>2.0</td>\n",
       "      <td>1.0</td>\n",
       "      <td>NaN</td>\n",
       "      <td>18.0</td>\n",
       "      <td>1.0</td>\n",
       "      <td>NaN</td>\n",
       "      <td>NaN</td>\n",
       "      <td>NaN</td>\n",
       "      <td>NaN</td>\n",
       "    </tr>\n",
       "    <tr>\n",
       "      <th>America/New_York</th>\n",
       "      <td>NaN</td>\n",
       "      <td>2.0</td>\n",
       "      <td>NaN</td>\n",
       "      <td>129.0</td>\n",
       "      <td>3.0</td>\n",
       "      <td>2.0</td>\n",
       "      <td>NaN</td>\n",
       "      <td>15.0</td>\n",
       "      <td>NaN</td>\n",
       "    </tr>\n",
       "    <tr>\n",
       "      <th>America/Phoenix</th>\n",
       "      <td>NaN</td>\n",
       "      <td>NaN</td>\n",
       "      <td>NaN</td>\n",
       "      <td>96.0</td>\n",
       "      <td>NaN</td>\n",
       "      <td>NaN</td>\n",
       "      <td>NaN</td>\n",
       "      <td>NaN</td>\n",
       "      <td>NaN</td>\n",
       "    </tr>\n",
       "    <tr>\n",
       "      <th>Asia/Singapore</th>\n",
       "      <td>NaN</td>\n",
       "      <td>NaN</td>\n",
       "      <td>NaN</td>\n",
       "      <td>NaN</td>\n",
       "      <td>NaN</td>\n",
       "      <td>NaN</td>\n",
       "      <td>NaN</td>\n",
       "      <td>5.0</td>\n",
       "      <td>NaN</td>\n",
       "    </tr>\n",
       "    <tr>\n",
       "      <th>Europe/London</th>\n",
       "      <td>NaN</td>\n",
       "      <td>NaN</td>\n",
       "      <td>13.0</td>\n",
       "      <td>43.0</td>\n",
       "      <td>NaN</td>\n",
       "      <td>NaN</td>\n",
       "      <td>12.0</td>\n",
       "      <td>74.0</td>\n",
       "      <td>1.0</td>\n",
       "    </tr>\n",
       "    <tr>\n",
       "      <th>Europe/Zurich</th>\n",
       "      <td>NaN</td>\n",
       "      <td>NaN</td>\n",
       "      <td>NaN</td>\n",
       "      <td>12.0</td>\n",
       "      <td>NaN</td>\n",
       "      <td>NaN</td>\n",
       "      <td>NaN</td>\n",
       "      <td>NaN</td>\n",
       "      <td>NaN</td>\n",
       "    </tr>\n",
       "  </tbody>\n",
       "</table>\n",
       "</div>"
      ],
      "text/plain": [
       "subindustry          Bank/Financial Services  Business Services  \\\n",
       "timezone                                                          \n",
       "America/Chicago                          NaN                NaN   \n",
       "America/Denver                           NaN                NaN   \n",
       "America/Los_Angeles                      2.0                1.0   \n",
       "America/New_York                         NaN                2.0   \n",
       "America/Phoenix                          NaN                NaN   \n",
       "Asia/Singapore                           NaN                NaN   \n",
       "Europe/London                            NaN                NaN   \n",
       "Europe/Zurich                            NaN                NaN   \n",
       "\n",
       "subindustry          City, County, State  College/University  \\\n",
       "timezone                                                       \n",
       "America/Chicago                      NaN                68.0   \n",
       "America/Denver                       NaN                 NaN   \n",
       "America/Los_Angeles                  NaN                18.0   \n",
       "America/New_York                     NaN               129.0   \n",
       "America/Phoenix                      NaN                96.0   \n",
       "Asia/Singapore                       NaN                 NaN   \n",
       "Europe/London                       13.0                43.0   \n",
       "Europe/Zurich                        NaN                12.0   \n",
       "\n",
       "subindustry          Commercial Real Estate  Corporate Office  \\\n",
       "timezone                                                        \n",
       "America/Chicago                         NaN               NaN   \n",
       "America/Denver                          NaN               NaN   \n",
       "America/Los_Angeles                     1.0               NaN   \n",
       "America/New_York                        3.0               2.0   \n",
       "America/Phoenix                         NaN               NaN   \n",
       "Asia/Singapore                          NaN               NaN   \n",
       "Europe/London                           NaN               NaN   \n",
       "Europe/Zurich                           NaN               NaN   \n",
       "\n",
       "subindustry          Other Government Buildings  Primary/Secondary School  \\\n",
       "timezone                                                                    \n",
       "America/Chicago                             NaN                       7.0   \n",
       "America/Denver                              NaN                       3.0   \n",
       "America/Los_Angeles                         NaN                       NaN   \n",
       "America/New_York                            NaN                      15.0   \n",
       "America/Phoenix                             NaN                       NaN   \n",
       "Asia/Singapore                              NaN                       5.0   \n",
       "Europe/London                              12.0                      74.0   \n",
       "Europe/Zurich                               NaN                       NaN   \n",
       "\n",
       "subindustry          Social Services  \n",
       "timezone                              \n",
       "America/Chicago                  NaN  \n",
       "America/Denver                   NaN  \n",
       "America/Los_Angeles              NaN  \n",
       "America/New_York                 NaN  \n",
       "America/Phoenix                  NaN  \n",
       "Asia/Singapore                   NaN  \n",
       "Europe/London                    1.0  \n",
       "Europe/Zurich                    NaN  "
      ]
     },
     "execution_count": 11,
     "metadata": {},
     "output_type": "execute_result"
    }
   ],
   "source": [
    "df"
   ]
  },
  {
   "cell_type": "code",
   "execution_count": 12,
   "metadata": {
    "collapsed": false
   },
   "outputs": [
    {
     "data": {
      "text/html": [
       "<div>\n",
       "<table border=\"1\" class=\"dataframe\">\n",
       "  <thead>\n",
       "    <tr style=\"text-align: right;\">\n",
       "      <th></th>\n",
       "      <th>index</th>\n",
       "      <th>timezone</th>\n",
       "    </tr>\n",
       "  </thead>\n",
       "  <tbody>\n",
       "    <tr>\n",
       "      <th>0</th>\n",
       "      <td>America/New_York</td>\n",
       "      <td>151</td>\n",
       "    </tr>\n",
       "    <tr>\n",
       "      <th>1</th>\n",
       "      <td>Europe/London</td>\n",
       "      <td>143</td>\n",
       "    </tr>\n",
       "    <tr>\n",
       "      <th>2</th>\n",
       "      <td>America/Phoenix</td>\n",
       "      <td>96</td>\n",
       "    </tr>\n",
       "    <tr>\n",
       "      <th>3</th>\n",
       "      <td>America/Chicago</td>\n",
       "      <td>75</td>\n",
       "    </tr>\n",
       "    <tr>\n",
       "      <th>4</th>\n",
       "      <td>America/Los_Angeles</td>\n",
       "      <td>22</td>\n",
       "    </tr>\n",
       "    <tr>\n",
       "      <th>5</th>\n",
       "      <td>Europe/Zurich</td>\n",
       "      <td>12</td>\n",
       "    </tr>\n",
       "    <tr>\n",
       "      <th>6</th>\n",
       "      <td>Asia/Singapore</td>\n",
       "      <td>5</td>\n",
       "    </tr>\n",
       "    <tr>\n",
       "      <th>7</th>\n",
       "      <td>America/Denver</td>\n",
       "      <td>3</td>\n",
       "    </tr>\n",
       "  </tbody>\n",
       "</table>\n",
       "</div>"
      ],
      "text/plain": [
       "                 index  timezone\n",
       "0     America/New_York       151\n",
       "1        Europe/London       143\n",
       "2      America/Phoenix        96\n",
       "3      America/Chicago        75\n",
       "4  America/Los_Angeles        22\n",
       "5        Europe/Zurich        12\n",
       "6       Asia/Singapore         5\n",
       "7       America/Denver         3"
      ]
     },
     "execution_count": 12,
     "metadata": {},
     "output_type": "execute_result"
    }
   ],
   "source": [
    "# crashes = sns.load_dataset(\"car_crashes\").sort_values(\"total\", ascending=False)\n",
    "location = pd.DataFrame(meta.timezone.value_counts()).reset_index()\n",
    "\n",
    "location"
   ]
  },
  {
   "cell_type": "code",
   "execution_count": 13,
   "metadata": {
    "collapsed": true
   },
   "outputs": [],
   "source": [
    "def createbarchart(df, column, ylabel, color, filelabel):\n",
    "    # Initialize the matplotlib figure\n",
    "    #sns.set_context('poster', font_scale=1)    \n",
    "    location = pd.DataFrame(df[column].value_counts()).reset_index()\n",
    "\n",
    "    f, ax = plt.subplots(figsize=(9, 5))\n",
    "\n",
    "    sns.set_color_codes(\"pastel\")\n",
    "    sns.barplot(x=column, y=\"index\", data=location[:15], color=color)\n",
    "\n",
    "    # Add a legend and informative axis label\n",
    "    ax.legend(ncol=2, loc=\"lower right\", frameon=True)\n",
    "    ax.set(ylabel=ylabel,\n",
    "           xlabel=\"Number of Buildings\")\n",
    "    sns.despine(left=True, bottom=True)\n",
    "    plt.subplots_adjust(left=0.3)\n",
    "    plt.savefig(os.path.join(repos_path,\"reports/figures/metadataoverview/\"+filelabel+\".png\"))"
   ]
  },
  {
   "cell_type": "code",
   "execution_count": 14,
   "metadata": {
    "collapsed": false
   },
   "outputs": [
    {
     "data": {
      "text/html": [
       "<div>\n",
       "<table border=\"1\" class=\"dataframe\">\n",
       "  <thead>\n",
       "    <tr style=\"text-align: right;\">\n",
       "      <th></th>\n",
       "      <th>index</th>\n",
       "      <th>timezone</th>\n",
       "    </tr>\n",
       "  </thead>\n",
       "  <tbody>\n",
       "    <tr>\n",
       "      <th>0</th>\n",
       "      <td>America/New_York</td>\n",
       "      <td>151</td>\n",
       "    </tr>\n",
       "    <tr>\n",
       "      <th>1</th>\n",
       "      <td>Europe/London</td>\n",
       "      <td>143</td>\n",
       "    </tr>\n",
       "    <tr>\n",
       "      <th>2</th>\n",
       "      <td>America/Phoenix</td>\n",
       "      <td>96</td>\n",
       "    </tr>\n",
       "    <tr>\n",
       "      <th>3</th>\n",
       "      <td>America/Chicago</td>\n",
       "      <td>75</td>\n",
       "    </tr>\n",
       "    <tr>\n",
       "      <th>4</th>\n",
       "      <td>America/Los_Angeles</td>\n",
       "      <td>22</td>\n",
       "    </tr>\n",
       "    <tr>\n",
       "      <th>5</th>\n",
       "      <td>Europe/Zurich</td>\n",
       "      <td>12</td>\n",
       "    </tr>\n",
       "    <tr>\n",
       "      <th>6</th>\n",
       "      <td>Asia/Singapore</td>\n",
       "      <td>5</td>\n",
       "    </tr>\n",
       "    <tr>\n",
       "      <th>7</th>\n",
       "      <td>America/Denver</td>\n",
       "      <td>3</td>\n",
       "    </tr>\n",
       "  </tbody>\n",
       "</table>\n",
       "</div>"
      ],
      "text/plain": [
       "                 index  timezone\n",
       "0     America/New_York       151\n",
       "1        Europe/London       143\n",
       "2      America/Phoenix        96\n",
       "3      America/Chicago        75\n",
       "4  America/Los_Angeles        22\n",
       "5        Europe/Zurich        12\n",
       "6       Asia/Singapore         5\n",
       "7       America/Denver         3"
      ]
     },
     "execution_count": 14,
     "metadata": {},
     "output_type": "execute_result"
    }
   ],
   "source": [
    "location[:15]"
   ]
  },
  {
   "cell_type": "code",
   "execution_count": 22,
   "metadata": {
    "collapsed": false
   },
   "outputs": [],
   "source": [
    "meta[\"string_starttime\"] = meta.datastart.apply(lambda x: str(x.date()))"
   ]
  },
  {
   "cell_type": "code",
   "execution_count": 27,
   "metadata": {
    "collapsed": false
   },
   "outputs": [
    {
     "data": {
      "image/png": "[encoded data removed]",
      "text/plain": [
       "<matplotlib.figure.Figure at 0x11d229250>"
      ]
     },
     "metadata": {},
     "output_type": "display_data"
    }
   ],
   "source": [
    "#sns.set_style(\"white\")\n",
    "createbarchart(meta, \"string_starttime\", \"Data Starting Time\", \"m\",\"starttimesbar\")"
   ]
  },
  {
   "cell_type": "code",
   "execution_count": 19,
   "metadata": {
    "collapsed": false
   },
   "outputs": [
    {
     "data": {
      "image/png": "[encoded data removed]",
      "text/plain": [
       "<matplotlib.figure.Figure at 0x11ca5ea50>"
      ]
     },
     "metadata": {},
     "output_type": "display_data"
    }
   ],
   "source": [
    "#sns.set_style(\"white\")\n",
    "createbarchart(meta, \"timezone\", \"Time Zones\", \"b\",\"timezonesbar\")"
   ]
  },
  {
   "cell_type": "code",
   "execution_count": 16,
   "metadata": {
    "collapsed": false
   },
   "outputs": [
    {
     "name": "stderr",
     "output_type": "stream",
     "text": [
      "/Users/Clayton/anaconda/lib/python2.7/site-packages/matplotlib/axes/_axes.py:519: UserWarning: No labelled objects found. Use label='...' kwarg on individual plots.\n",
      "  warnings.warn(\"No labelled objects found. \"\n"
     ]
    },
    {
     "data": {
      "image/png": "[encoded data removed]",
      "text/plain": [
       "<matplotlib.figure.Figure at 0x11be239d0>"
      ]
     },
     "metadata": {},
     "output_type": "display_data"
    }
   ],
   "source": [
    "createbarchart(meta, \"industry\", \"Industry\", \"r\", \"bar_industry\")"
   ]
  },
  {
   "cell_type": "code",
   "execution_count": 17,
   "metadata": {
    "collapsed": false
   },
   "outputs": [
    {
     "data": {
      "image/png": "[encoded data removed]",
      "text/plain": [
       "<matplotlib.figure.Figure at 0x11c550790>"
      ]
     },
     "metadata": {},
     "output_type": "display_data"
    }
   ],
   "source": [
    "createbarchart(meta, \"subindustry\", \"Sub-Industry\", \"g\",\"bar_subindustry\")"
   ]
  },
  {
   "cell_type": "code",
   "execution_count": 18,
   "metadata": {
    "collapsed": false
   },
   "outputs": [
    {
     "data": {
      "image/png": "[encoded data removed]",
      "text/plain": [
       "<matplotlib.figure.Figure at 0x11c779710>"
      ]
     },
     "metadata": {},
     "output_type": "display_data"
    }
   ],
   "source": [
    "createbarchart(meta, \"primaryspaceusage\", \"Primary Use\", \"y\", \"bar_primaryspaceuse\")"
   ]
  },
  {
   "cell_type": "code",
   "execution_count": null,
   "metadata": {
    "collapsed": true
   },
   "outputs": [],
   "source": []
  },
  {
   "cell_type": "code",
   "execution_count": null,
   "metadata": {
    "collapsed": true
   },
   "outputs": [],
   "source": []
  }
 ],
 "metadata": {
  "hide_input": false,
  "kernelspec": {
   "display_name": "Python 2",
   "language": "python",
   "name": "python2"
  },
  "language_info": {
   "codemirror_mode": {
    "name": "ipython",
    "version": 2
   },
   "file_extension": ".py",
   "mimetype": "text/x-python",
   "name": "python",
   "nbconvert_exporter": "python",
   "pygments_lexer": "ipython2",
   "version": "2.7.11"
  }
 },
 "nbformat": 4,
 "nbformat_minor": 0
}
