{
 "cells": [
  {
   "cell_type": "markdown",
   "metadata": {},
   "source": [
    "# Normalized Consumption Visualizations\n",
    "\n",
    "Clayton Miller - miller.clayton@gmail.com"
   ]
  },
  {
   "cell_type": "code",
   "execution_count": 1,
   "metadata": {
    "collapsed": true
   },
   "outputs": [],
   "source": [
    "import pandas as pd\n",
    "import seaborn as sns\n",
    "import numpy as np\n",
    "import matplotlib.pyplot as plt\n",
    "from datetime import datetime\n",
    "import timeit\n",
    "import os\n",
    "from datetime import datetime\n",
    "from __future__ import division\n",
    "from pylab import *\n",
    "import matplotlib.dates as mdates\n",
    "from matplotlib import ticker\n",
    "import datetime\n",
    "import matplotlib"
   ]
  },
  {
   "cell_type": "code",
   "execution_count": 2,
   "metadata": {
    "collapsed": true
   },
   "outputs": [],
   "source": [
    "sns.set_style(\"whitegrid\")"
   ]
  },
  {
   "cell_type": "code",
   "execution_count": 3,
   "metadata": {
    "collapsed": true
   },
   "outputs": [],
   "source": [
    "%matplotlib inline"
   ]
  },
  {
   "cell_type": "code",
   "execution_count": 4,
   "metadata": {
    "collapsed": true
   },
   "outputs": [],
   "source": [
    "repos_path = \"/Users/Clayton/temporal-features-for-buildings/\""
   ]
  },
  {
   "cell_type": "code",
   "execution_count": 5,
   "metadata": {
    "collapsed": true
   },
   "outputs": [],
   "source": [
    "meta = pd.read_csv(os.path.join(repos_path,\"data/raw/meta_open.csv\"), index_col='uid', parse_dates=[\"datastart\",\"dataend\"], dayfirst=True)"
   ]
  },
  {
   "cell_type": "code",
   "execution_count": 6,
   "metadata": {
    "collapsed": true
   },
   "outputs": [],
   "source": [
    "temp = pd.read_csv((os.path.join(repos_path,\"data/interim/temp_open_utc_complete.csv\")), index_col='timestamp', parse_dates=True).tz_localize('utc')"
   ]
  },
  {
   "cell_type": "markdown",
   "metadata": {},
   "source": [
    "# Individual visualization"
   ]
  },
  {
   "cell_type": "code",
   "execution_count": 7,
   "metadata": {
    "collapsed": false
   },
   "outputs": [],
   "source": [
    "def get_individual_data(temp, meta, building):\n",
    "    timezone = meta.T[building].timezone\n",
    "    start = meta.T[building].datastart\n",
    "    end = meta.T[building].dataend\n",
    "    return pd.DataFrame(temp[building].tz_convert(timezone).truncate(before=start,after=end))"
   ]
  },
  {
   "cell_type": "code",
   "execution_count": 8,
   "metadata": {
    "collapsed": true
   },
   "outputs": [],
   "source": [
    "temp_normalized = temp.resample('H').sum()/meta.sqm\n",
    "#df_normalized = df_normalized"
   ]
  },
  {
   "cell_type": "code",
   "execution_count": 9,
   "metadata": {
    "collapsed": false
   },
   "outputs": [],
   "source": [
    "#df_normalized"
   ]
  },
  {
   "cell_type": "code",
   "execution_count": 10,
   "metadata": {
    "collapsed": true
   },
   "outputs": [],
   "source": [
    "building = \"Office_Ellie\""
   ]
  },
  {
   "cell_type": "code",
   "execution_count": 11,
   "metadata": {
    "collapsed": true
   },
   "outputs": [],
   "source": [
    "start = '2012-12-15'\n",
    "end = '2012-12-30'"
   ]
  },
  {
   "cell_type": "code",
   "execution_count": 12,
   "metadata": {
    "collapsed": false
   },
   "outputs": [],
   "source": [
    "df = get_individual_data(temp, meta, building).truncate(before=start,after=end)\n",
    "df_normalized = get_individual_data(temp_normalized, meta, building).truncate(before=start,after=end)"
   ]
  },
  {
   "cell_type": "code",
   "execution_count": 13,
   "metadata": {
    "collapsed": false
   },
   "outputs": [],
   "source": [
    "#df_normalized"
   ]
  },
  {
   "cell_type": "code",
   "execution_count": 14,
   "metadata": {
    "collapsed": false
   },
   "outputs": [],
   "source": [
    "def plot_line_example(df_original, df_normalized,  color):\n",
    "    sns.set(rc={\"figure.figsize\": (12,4)})\n",
    "    sns.set_style('whitegrid')\n",
    "    fig = plt.figure()\n",
    "    fig.autofmt_xdate()\n",
    "    fig.subplots_adjust(hspace=.5)\n",
    "    gs = GridSpec(100,100,bottom=0.18,left=0.18,right=0.88)\n",
    "    \n",
    "    df_original.columns = [\"Actual kWh\"]\n",
    "    #df_predicted.columns = [\"Predicted kWh\"]\n",
    "    ax1 = fig.add_subplot(gs[1:60,:])\n",
    "    df_original.plot(ax = ax1)\n",
    "    ax1.xaxis.set_visible(False)\n",
    "    ax1.set_title(\"Hourly kWh\")\n",
    "    \n",
    "    ax2 = fig.add_subplot(gs[68:,:])\n",
    "    df_normalized = df_normalized.tz_localize(None)\n",
    "    x = mdates.drange(df_normalized.index[0], df_normalized.index[-1] + datetime.timedelta(hours=1), datetime.timedelta(hours=1))\n",
    "    y = np.linspace(0, len(df_normalized.columns), len(df_normalized.columns)+1)\n",
    "    data = np.array(df_normalized.T)\n",
    "    datam = np.ma.array(data, mask=np.isnan(data))\n",
    "    cmap = matplotlib.cm.get_cmap(color)\n",
    "    qmesh = ax2.pcolormesh(x, y, datam, cmap=cmap)\n",
    "    ax2.set_title(\"Normalized Hourly Consumption [kWh/m2]\")\n",
    "    \n",
    "    #leftspacing, \n",
    "    cbaxes = fig.add_axes([0.18, 0.08, 0.7, 0.02]) \n",
    "    cbar = fig.colorbar(qmesh, ax=ax2, orientation='horizontal', cax=cbaxes)\n",
    "    \n",
    "    ax2.axis('tight')\n",
    "    ax2.xaxis_date()\n",
    "    ax2.yaxis.set_visible(False)\n",
    "    myFmt = mdates.DateFormatter('%b %d')\n",
    "    ax2.xaxis.set_major_formatter(myFmt)"
   ]
  },
  {
   "cell_type": "code",
   "execution_count": 15,
   "metadata": {
    "collapsed": false
   },
   "outputs": [
    {
     "ename": "IOError",
     "evalue": "[Errno 2] No such file or directory: '/Users/Clayton/temporal-features-for-buildings/reports/figures/loadshape/normalizedcons_example.png'",
     "output_type": "error",
     "traceback": [
      "\u001b[0;31m---------------------------------------------------------------------------\u001b[0m",
      "\u001b[0;31mIOError\u001b[0m                                   Traceback (most recent call last)",
      "\u001b[0;32m<ipython-input-15-ba1dd324f8bd>\u001b[0m in \u001b[0;36m<module>\u001b[0;34m()\u001b[0m\n\u001b[1;32m      1\u001b[0m \u001b[0mplot_line_example\u001b[0m\u001b[0;34m(\u001b[0m\u001b[0mdf\u001b[0m\u001b[0;34m,\u001b[0m \u001b[0mdf_normalized\u001b[0m\u001b[0;34m,\u001b[0m \u001b[0;34m\"hot\"\u001b[0m\u001b[0;34m)\u001b[0m\u001b[0;34m\u001b[0m\u001b[0m\n\u001b[0;32m----> 2\u001b[0;31m \u001b[0mplt\u001b[0m\u001b[0;34m.\u001b[0m\u001b[0msavefig\u001b[0m\u001b[0;34m(\u001b[0m\u001b[0mos\u001b[0m\u001b[0;34m.\u001b[0m\u001b[0mpath\u001b[0m\u001b[0;34m.\u001b[0m\u001b[0mjoin\u001b[0m\u001b[0;34m(\u001b[0m\u001b[0mrepos_path\u001b[0m\u001b[0;34m,\u001b[0m\u001b[0;34m\"reports/figures/loadshape/normalizedcons_example.png\"\u001b[0m\u001b[0;34m)\u001b[0m\u001b[0;34m)\u001b[0m\u001b[0;34m;\u001b[0m\u001b[0;34m\u001b[0m\u001b[0m\n\u001b[0m",
      "\u001b[0;32m/Users/Clayton/anaconda/lib/python2.7/site-packages/matplotlib/pyplot.pyc\u001b[0m in \u001b[0;36msavefig\u001b[0;34m(*args, **kwargs)\u001b[0m\n\u001b[1;32m    686\u001b[0m \u001b[0;32mdef\u001b[0m \u001b[0msavefig\u001b[0m\u001b[0;34m(\u001b[0m\u001b[0;34m*\u001b[0m\u001b[0margs\u001b[0m\u001b[0;34m,\u001b[0m \u001b[0;34m**\u001b[0m\u001b[0mkwargs\u001b[0m\u001b[0;34m)\u001b[0m\u001b[0;34m:\u001b[0m\u001b[0;34m\u001b[0m\u001b[0m\n\u001b[1;32m    687\u001b[0m     \u001b[0mfig\u001b[0m \u001b[0;34m=\u001b[0m \u001b[0mgcf\u001b[0m\u001b[0;34m(\u001b[0m\u001b[0;34m)\u001b[0m\u001b[0;34m\u001b[0m\u001b[0m\n\u001b[0;32m--> 688\u001b[0;31m     \u001b[0mres\u001b[0m \u001b[0;34m=\u001b[0m \u001b[0mfig\u001b[0m\u001b[0;34m.\u001b[0m\u001b[0msavefig\u001b[0m\u001b[0;34m(\u001b[0m\u001b[0;34m*\u001b[0m\u001b[0margs\u001b[0m\u001b[0;34m,\u001b[0m \u001b[0;34m**\u001b[0m\u001b[0mkwargs\u001b[0m\u001b[0;34m)\u001b[0m\u001b[0;34m\u001b[0m\u001b[0m\n\u001b[0m\u001b[1;32m    689\u001b[0m     \u001b[0mfig\u001b[0m\u001b[0;34m.\u001b[0m\u001b[0mcanvas\u001b[0m\u001b[0;34m.\u001b[0m\u001b[0mdraw_idle\u001b[0m\u001b[0;34m(\u001b[0m\u001b[0;34m)\u001b[0m   \u001b[0;31m# need this if 'transparent=True' to reset colors\u001b[0m\u001b[0;34m\u001b[0m\u001b[0m\n\u001b[1;32m    690\u001b[0m     \u001b[0;32mreturn\u001b[0m \u001b[0mres\u001b[0m\u001b[0;34m\u001b[0m\u001b[0m\n",
      "\u001b[0;32m/Users/Clayton/anaconda/lib/python2.7/site-packages/matplotlib/figure.pyc\u001b[0m in \u001b[0;36msavefig\u001b[0;34m(self, *args, **kwargs)\u001b[0m\n\u001b[1;32m   1563\u001b[0m             \u001b[0mself\u001b[0m\u001b[0;34m.\u001b[0m\u001b[0mset_frameon\u001b[0m\u001b[0;34m(\u001b[0m\u001b[0mframeon\u001b[0m\u001b[0;34m)\u001b[0m\u001b[0;34m\u001b[0m\u001b[0m\n\u001b[1;32m   1564\u001b[0m \u001b[0;34m\u001b[0m\u001b[0m\n\u001b[0;32m-> 1565\u001b[0;31m         \u001b[0mself\u001b[0m\u001b[0;34m.\u001b[0m\u001b[0mcanvas\u001b[0m\u001b[0;34m.\u001b[0m\u001b[0mprint_figure\u001b[0m\u001b[0;34m(\u001b[0m\u001b[0;34m*\u001b[0m\u001b[0margs\u001b[0m\u001b[0;34m,\u001b[0m \u001b[0;34m**\u001b[0m\u001b[0mkwargs\u001b[0m\u001b[0;34m)\u001b[0m\u001b[0;34m\u001b[0m\u001b[0m\n\u001b[0m\u001b[1;32m   1566\u001b[0m \u001b[0;34m\u001b[0m\u001b[0m\n\u001b[1;32m   1567\u001b[0m         \u001b[0;32mif\u001b[0m \u001b[0mframeon\u001b[0m\u001b[0;34m:\u001b[0m\u001b[0;34m\u001b[0m\u001b[0m\n",
      "\u001b[0;32m/Users/Clayton/anaconda/lib/python2.7/site-packages/matplotlib/backend_bases.pyc\u001b[0m in \u001b[0;36mprint_figure\u001b[0;34m(self, filename, dpi, facecolor, edgecolor, orientation, format, **kwargs)\u001b[0m\n\u001b[1;32m   2230\u001b[0m                 \u001b[0morientation\u001b[0m\u001b[0;34m=\u001b[0m\u001b[0morientation\u001b[0m\u001b[0;34m,\u001b[0m\u001b[0;34m\u001b[0m\u001b[0m\n\u001b[1;32m   2231\u001b[0m                 \u001b[0mbbox_inches_restore\u001b[0m\u001b[0;34m=\u001b[0m\u001b[0m_bbox_inches_restore\u001b[0m\u001b[0;34m,\u001b[0m\u001b[0;34m\u001b[0m\u001b[0m\n\u001b[0;32m-> 2232\u001b[0;31m                 **kwargs)\n\u001b[0m\u001b[1;32m   2233\u001b[0m         \u001b[0;32mfinally\u001b[0m\u001b[0;34m:\u001b[0m\u001b[0;34m\u001b[0m\u001b[0m\n\u001b[1;32m   2234\u001b[0m             \u001b[0;32mif\u001b[0m \u001b[0mbbox_inches\u001b[0m \u001b[0;32mand\u001b[0m \u001b[0mrestore_bbox\u001b[0m\u001b[0;34m:\u001b[0m\u001b[0;34m\u001b[0m\u001b[0m\n",
      "\u001b[0;32m/Users/Clayton/anaconda/lib/python2.7/site-packages/matplotlib/backends/backend_agg.pyc\u001b[0m in \u001b[0;36mprint_png\u001b[0;34m(self, filename_or_obj, *args, **kwargs)\u001b[0m\n\u001b[1;32m    530\u001b[0m         \u001b[0mrenderer\u001b[0m\u001b[0;34m.\u001b[0m\u001b[0mdpi\u001b[0m \u001b[0;34m=\u001b[0m \u001b[0mself\u001b[0m\u001b[0;34m.\u001b[0m\u001b[0mfigure\u001b[0m\u001b[0;34m.\u001b[0m\u001b[0mdpi\u001b[0m\u001b[0;34m\u001b[0m\u001b[0m\n\u001b[1;32m    531\u001b[0m         \u001b[0;32mif\u001b[0m \u001b[0mis_string_like\u001b[0m\u001b[0;34m(\u001b[0m\u001b[0mfilename_or_obj\u001b[0m\u001b[0;34m)\u001b[0m\u001b[0;34m:\u001b[0m\u001b[0;34m\u001b[0m\u001b[0m\n\u001b[0;32m--> 532\u001b[0;31m             \u001b[0mfilename_or_obj\u001b[0m \u001b[0;34m=\u001b[0m \u001b[0mopen\u001b[0m\u001b[0;34m(\u001b[0m\u001b[0mfilename_or_obj\u001b[0m\u001b[0;34m,\u001b[0m \u001b[0;34m'wb'\u001b[0m\u001b[0;34m)\u001b[0m\u001b[0;34m\u001b[0m\u001b[0m\n\u001b[0m\u001b[1;32m    533\u001b[0m             \u001b[0mclose\u001b[0m \u001b[0;34m=\u001b[0m \u001b[0mTrue\u001b[0m\u001b[0;34m\u001b[0m\u001b[0m\n\u001b[1;32m    534\u001b[0m         \u001b[0;32melse\u001b[0m\u001b[0;34m:\u001b[0m\u001b[0;34m\u001b[0m\u001b[0m\n",
      "\u001b[0;31mIOError\u001b[0m: [Errno 2] No such file or directory: '/Users/Clayton/temporal-features-for-buildings/reports/figures/loadshape/normalizedcons_example.png'"
     ]
    },
    {
     "data": {
      "image/png": "[encoded data removed]",
      "text/plain": [
       "<matplotlib.figure.Figure at 0x11933cd10>"
      ]
     },
     "metadata": {},
     "output_type": "display_data"
    }
   ],
   "source": [
    "plot_line_example(df, df_normalized, \"hot\")\n",
    "plt.savefig(os.path.join(repos_path,\"reports/figures/loadshape/normalizedcons_example.png\"));"
   ]
  },
  {
   "cell_type": "code",
   "execution_count": null,
   "metadata": {
    "collapsed": false
   },
   "outputs": [],
   "source": [
    "#sns.palplot(sns.light_palette(\"viridis\"))"
   ]
  },
  {
   "cell_type": "code",
   "execution_count": null,
   "metadata": {
    "collapsed": true
   },
   "outputs": [],
   "source": []
  },
  {
   "cell_type": "code",
   "execution_count": null,
   "metadata": {
    "collapsed": true
   },
   "outputs": [],
   "source": []
  },
  {
   "cell_type": "markdown",
   "metadata": {},
   "source": [
    "# Overview heatmap"
   ]
  },
  {
   "cell_type": "code",
   "execution_count": null,
   "metadata": {
    "collapsed": true
   },
   "outputs": [],
   "source": [
    "def heatmap_data(df):\n",
    "    x = mdates.drange(df.index[0], df.index[-1] + datetime.timedelta(days=1), datetime.timedelta(days=1))\n",
    "    y = np.linspace(0, len(df.columns), len(df.columns)+1)\n",
    "    return x,y\n",
    "\n",
    "#This function changes the year for all of the buildings so that they can be overlapped for plotting\n",
    "# THE RESULTING DATAFRAME IS ONLY FOR \"GENERALIZED\" PLOTTING TO GET THE DATA SETS TO OVERLAP -- DON'T PERFORM CALCULATIONS ON IT\n",
    "\n",
    "def changeto2015(x):\n",
    "    try:\n",
    "        return x.replace(year=2015)\n",
    "    except:\n",
    "        return np.nan\n",
    "    \n",
    "def is_leap_and_29Feb(s):\n",
    "    return (s.index.year % 4 == 0) & ((s.index.year % 100 != 0) | (s.index.year % 400 == 0)) & (s.index.month == 2) & (s.index.day == 29)\n",
    "\n",
    "def generalize_timestamp_forplotting(meta, temp):\n",
    "    temp_generalized = pd.DataFrame()\n",
    "    buildinglist = list(meta.index)\n",
    "    \n",
    "    for building in buildinglist:\n",
    "        #Change to timezone\n",
    "        timezone = meta.T[building].timezone\n",
    "        start = meta.T[building].datastart\n",
    "        end = meta.T[building].dataend\n",
    "        building_data = pd.DataFrame(temp[building].tz_convert(timezone).truncate(before=start,after=end))\n",
    "        \n",
    "        #Remove leap year day for 2012\n",
    "        mask = is_leap_and_29Feb(building_data)\n",
    "        building_data = building_data.loc[~mask]\n",
    "        \n",
    "        #Change to 2015 -- we arbitrarily use this year\n",
    "        building_data.index = building_data.index.map(lambda t: changeto2015(t))\n",
    "        \n",
    "        #Remove tz awareness, resample to normalize the timestamps and ffill to get rid of the gaps\n",
    "        building_data = building_data.tz_localize(None)\n",
    "        building_data = building_data.resample('H').mean().sort_index()\n",
    "        building_data = building_data.ffill()\n",
    "        \n",
    "        #Merge into dataset\n",
    "        temp_generalized = pd.merge(temp_generalized, building_data, right_index=True, left_index=True, how='outer')\n",
    "        temp_generalized = temp_generalized.resample('H').mean().sort_index()\n",
    "        \n",
    "        #print \"finished building: \"+building\n",
    "    return temp_generalized\n",
    "\n",
    "def plotmap(df, color, cbarlabel, xaxislabel, yaxislabel, graphiclabel, filelabel):\n",
    "    \n",
    "    import matplotlib.dates as mdates\n",
    "    from matplotlib import ticker\n",
    "    import datetime\n",
    "    import matplotlib\n",
    "    import seaborn as sns\n",
    "\n",
    "    # Set up the size/style\n",
    "    sns.set(rc={\"figure.figsize\": (12,15)})\n",
    "    sns.set_style(\"whitegrid\")\n",
    "    \n",
    "    numberofplots = 1\n",
    "    \n",
    "    fig = plt.figure()\n",
    "    \n",
    "    x = mdates.drange(df.index[0], df.index[-1] + datetime.timedelta(days=1), datetime.timedelta(days=1))\n",
    "    y = np.linspace(0, len(df.columns), len(df.columns)+1)\n",
    "    ax = fig.add_subplot(numberofplots, 1, 1)\n",
    "    data = np.array(df.T)\n",
    "    datam = np.ma.array(data, mask=np.isnan(data))\n",
    "    cmap = matplotlib.cm.get_cmap(color)\n",
    "    qmesh = ax.pcolormesh(x, y, datam, cmap=cmap)\n",
    "    \n",
    "    cbaxes = fig.add_axes([0.15, 0.15, 0.7, 0.02]) \n",
    "    cbar = fig.colorbar(qmesh, ax=ax, orientation='horizontal', cax=cbaxes)\n",
    "    \n",
    "    cbar.ax.tick_params(length = 0)\n",
    "    cbar.set_label(cbarlabel)\n",
    "    \n",
    "    ax.axis('tight')\n",
    "    ax.xaxis_date()\n",
    "    fig.autofmt_xdate()\n",
    "    fig.subplots_adjust(hspace=.5)\n",
    "    ax.set_xlabel(xaxislabel)\n",
    "    ax.set_ylabel(yaxislabel)\n",
    "    ax.set_title(graphiclabel)\n",
    "    \n",
    "    ax.set_yticklabels(df.columns)\n",
    "    tick_locator = ticker.MaxNLocator(nbins=110)\n",
    "    loc = ticker.MultipleLocator(base=1.0) # this locator puts ticks at regular intervals\n",
    "    ax.locator_params(axis='y', nbins=100)\n",
    "    myFmt = mdates.DateFormatter('%b')\n",
    "    ax.xaxis.set_major_formatter(myFmt)\n",
    "\n",
    "#     T=np.arange(len(df.columns))+0.5\n",
    "#     ax.set_yticks(T)\n",
    "#     plt.tight_layout()\n",
    "    plt.subplots_adjust(bottom=0.2)\n",
    "    #plt.savefig(filelabel+\".png\", dpi=500)\n",
    "\n",
    "def plotmap_subplots(df, meta, color, cbarlabel, xaxislabel, yaxislabel, graphiclabel, filelabel, z_min, z_max):\n",
    "\n",
    "    import matplotlib.dates as mdates\n",
    "    from matplotlib import ticker\n",
    "    import datetime\n",
    "    import matplotlib\n",
    "    import seaborn as sns\n",
    "\n",
    "    # Set up the size/style\n",
    "    sns.set(rc={\"figure.figsize\": (12,15)})\n",
    "    sns.set_style(\"whitegrid\")\n",
    "    cmap = matplotlib.cm.get_cmap(color)\n",
    "\n",
    "    #numberofplots = 1\n",
    "    \n",
    "    fig = plt.figure()\n",
    "    fig.autofmt_xdate()\n",
    "    fig.subplots_adjust(hspace=.5)\n",
    "    gs = GridSpec(100,100,bottom=0.18,left=0.18,right=0.88)\n",
    "    \n",
    "    # Plot Offices\n",
    "    df_office = df[df.columns[df.columns.str.contains(\"Office\")]]\n",
    "    office_height = int(len(df_office.T)/len(df.T)*100-2)\n",
    "    ax1 = fig.add_subplot(gs[1:office_height,:])\n",
    "    x,y = heatmap_data(df_office)\n",
    "    data = np.array(df_office.T)\n",
    "    datam = np.ma.array(data, mask=np.isnan(df_office))\n",
    "    qmesh = ax1.pcolormesh(x, y, datam, cmap=cmap, vmin=z_min, vmax=z_max)\n",
    "#     ax1.set_yticklabels(df_office.columns)\n",
    "#     numofbins = len(df_office.T)/5\n",
    "#     tick_locator = ticker.MaxNLocator(nbins=numofbins)\n",
    "#     loc = ticker.MultipleLocator(base=1.0) # this locator puts ticks at regular intervals\n",
    " #   ax1.locator_params(axis='y', nbins=numofbins)\n",
    "    ax1.axis('tight')\n",
    "    ax1.xaxis_date()\n",
    "    ax1.set_title(\"Offices\")\n",
    "    ax1.xaxis.set_visible(False)\n",
    "    \n",
    "    # Plot UnivLab\n",
    "    df_lab = df[df.columns[df.columns.str.contains(\"UnivLab\")]]\n",
    "    lab_height = int(len(df_lab.T)/len(df.T)*100-2)\n",
    "    ax2 = fig.add_subplot(gs[office_height+2:office_height+lab_height,:])\n",
    "    x,y = heatmap_data(df_lab)\n",
    "    data = np.array(df_lab.T)\n",
    "    datam = np.ma.array(data, mask=np.isnan(df_lab))\n",
    "    qmesh = ax2.pcolormesh(x, y, datam, cmap=cmap, vmin=z_min, vmax=z_max)\n",
    "    ax2.axis('tight')\n",
    "    ax2.xaxis_date()\n",
    "    ax2.set_title(\"University Labs\")\n",
    "    ax2.xaxis.set_visible(False)\n",
    "    \n",
    "    # Plot UnivClass\n",
    "    df_uniclass = df[df.columns[df.columns.str.contains(\"UnivClass\")]]\n",
    "    uniclass_height = int(len(df_uniclass.T)/len(df.T)*100-2)\n",
    "    ax3 = fig.add_subplot(gs[office_height+lab_height+2:office_height+lab_height+uniclass_height,:])\n",
    "    x,y = heatmap_data(df_uniclass)\n",
    "    data = np.array(df_uniclass.T)\n",
    "    datam = np.ma.array(data, mask=np.isnan(df_uniclass))\n",
    "    qmesh = ax3.pcolormesh(x, y, datam, cmap=cmap, vmin=z_min, vmax=z_max)\n",
    "    ax3.axis('tight')\n",
    "    ax3.xaxis_date()\n",
    "    ax3.set_title(\"University Classrooms\")\n",
    "    ax3.xaxis.set_visible(False)\n",
    "\n",
    "    # Plot PrimClass\n",
    "    df_primclass = df[df.columns[df.columns.str.contains(\"PrimClass\")]]\n",
    "    primclass_height = int(len(df_primclass.T)/len(df.T)*100-2)\n",
    "    ax4 = fig.add_subplot(gs[office_height+lab_height+uniclass_height+2:office_height+lab_height+uniclass_height+primclass_height,:])\n",
    "    x,y = heatmap_data(df_primclass)\n",
    "    data = np.array(df_primclass.T)\n",
    "    datam = np.ma.array(data, mask=np.isnan(df_primclass))\n",
    "    qmesh = ax4.pcolormesh(x, y, datam, cmap=cmap, vmin=z_min, vmax=z_max)\n",
    "    ax4.axis('tight')\n",
    "    ax4.xaxis_date()\n",
    "    ax4.set_title(\"Primary/Secondary Classroom\")\n",
    "    ax4.xaxis.set_visible(False)\n",
    "\n",
    "    \n",
    "    # Plot Univ Dorms\n",
    "    df_unidorm = df[df.columns[df.columns.str.contains(\"UnivDorm\")]]\n",
    "    unidorm_height = int(len(df_unidorm.T)/len(df.T)*100-2)\n",
    "    ax5 = fig.add_subplot(gs[office_height+lab_height+uniclass_height+primclass_height+2:office_height+lab_height+uniclass_height+primclass_height+unidorm_height,:])\n",
    "    x,y = heatmap_data(df_unidorm)\n",
    "    data = np.array(df_unidorm.T)\n",
    "    datam = np.ma.array(data, mask=np.isnan(df_unidorm))\n",
    "    qmesh = ax5.pcolormesh(x, y, datam, cmap=cmap, vmin=z_min, vmax=z_max)\n",
    "    ax5.axis('tight')\n",
    "    ax5.xaxis_date()\n",
    "    ax5.set_title(\"University Dorms\")\n",
    "    \n",
    "    cbaxes = fig.add_axes([0.18, 0.23, 0.7, 0.02]) \n",
    "    cbar = fig.colorbar(qmesh, orientation='horizontal', cax=cbaxes) #ax=ax,\n",
    "    \n",
    "    cbar.ax.tick_params(length = 0)\n",
    "    cbar.set_label(cbarlabel)\n",
    "\n",
    "    myFmt = mdates.DateFormatter('%b')\n",
    "    ax5.xaxis.set_major_formatter(myFmt)\n",
    "    \n",
    "    fig.text(0.14, 0.5, yaxislabel, va='center', rotation='vertical')\n",
    "\n",
    "    #plt.subplots_adjust(bottom=0.2)\n",
    "    #plt.savefig(filelabel+\".png\", dpi=500)maps import *"
   ]
  },
  {
   "cell_type": "code",
   "execution_count": null,
   "metadata": {
    "collapsed": false
   },
   "outputs": [],
   "source": [
    "#temp_residuals_normalized.describe().T[\"count\"].value_counts()"
   ]
  },
  {
   "cell_type": "code",
   "execution_count": null,
   "metadata": {
    "collapsed": false
   },
   "outputs": [],
   "source": [
    "#df_normalized"
   ]
  },
  {
   "cell_type": "code",
   "execution_count": null,
   "metadata": {
    "collapsed": false
   },
   "outputs": [],
   "source": [
    "temp_normalized_generalized = generalize_timestamp_forplotting(meta, temp_normalized)"
   ]
  },
  {
   "cell_type": "code",
   "execution_count": null,
   "metadata": {
    "collapsed": true
   },
   "outputs": [],
   "source": [
    "temp_normalized_generalized_sorted = temp_normalized_generalized[list(temp_normalized_generalized.sum().sort_values().index)]"
   ]
  },
  {
   "cell_type": "code",
   "execution_count": null,
   "metadata": {
    "collapsed": false
   },
   "outputs": [],
   "source": [
    "temp_normalized_generalized_sorted.resample(\"D\").sum().describe().T.describe()"
   ]
  },
  {
   "cell_type": "code",
   "execution_count": null,
   "metadata": {
    "collapsed": false
   },
   "outputs": [],
   "source": [
    "plotmap_subplots(temp_normalized_generalized_sorted.resample(\"D\").sum(), meta, 'hot', \"Daily Normalized Consumption\",\n",
    "                 \"Timeline\", \"Building Number\", \"kWh Difference\", \"Daily Normalized Consumption [kWh/m2]\", 0, 2)\n",
    "plt.savefig(os.path.join(repos_path,\"reports/figures/loadshape/normalizedcons_heatmap.png\"));"
   ]
  },
  {
   "cell_type": "markdown",
   "metadata": {
    "collapsed": true
   },
   "source": [
    "# Get temporal Features out"
   ]
  },
  {
   "cell_type": "code",
   "execution_count": 24,
   "metadata": {
    "collapsed": false
   },
   "outputs": [],
   "source": [
    "temporalfeatures = temp_normalized.resample(\"D\").sum().describe().T\n",
    "\n",
    "temporalfeatures = temporalfeatures[['mean','std','min','max']]\n",
    "\n",
    "temporalfeatures.columns = ['BG_normalizedcons_mean','BG_normalizedcons_std','BG_normalizedcons_min','BG_normalizedcons_max']\n",
    "\n",
    "\n",
    "temporalfeatures.index.name = \"building_name\"\n",
    "temporalfeatures.columns.name = \"feature_name\"\n",
    "\n",
    "temporalfeatures.to_csv(os.path.join(repos_path,\"data/processed/features_normcons.csv\"))"
   ]
  },
  {
   "cell_type": "code",
   "execution_count": null,
   "metadata": {
    "collapsed": true
   },
   "outputs": [],
   "source": []
  }
 ],
 "metadata": {
  "hide_input": false,
  "kernelspec": {
   "display_name": "Python 2",
   "language": "python",
   "name": "python2"
  },
  "language_info": {
   "codemirror_mode": {
    "name": "ipython",
    "version": 2
   },
   "file_extension": ".py",
   "mimetype": "text/x-python",
   "name": "python",
   "nbconvert_exporter": "python",
   "pygments_lexer": "ipython2",
   "version": "2.7.11"
  }
 },
 "nbformat": 4,
 "nbformat_minor": 0
}
