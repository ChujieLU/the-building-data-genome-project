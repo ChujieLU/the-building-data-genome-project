{
 "cells": [
  {
   "cell_type": "markdown",
   "metadata": {},
   "source": [
    "# Feature Aggregation and Preparation\n",
    "\n",
    "Clayton Miller -- miller.clayton@gmail.com\n",
    "\n",
    "The goal of this notebook is to prototype the feature creation process using all of the outputs from the previous work."
   ]
  },
  {
   "cell_type": "code",
   "execution_count": 178,
   "metadata": {
    "collapsed": true
   },
   "outputs": [],
   "source": [
    "from __future__ import division\n",
    "import pandas as pd\n",
    "import seaborn as sns\n",
    "import os"
   ]
  },
  {
   "cell_type": "code",
   "execution_count": 179,
   "metadata": {
    "collapsed": true
   },
   "outputs": [],
   "source": [
    "%matplotlib inline"
   ]
  },
  {
   "cell_type": "code",
   "execution_count": 180,
   "metadata": {
    "collapsed": true
   },
   "outputs": [],
   "source": [
    "repos_path = \"/Users/Clayton/temporal-features-for-buildings/\""
   ]
  },
  {
   "cell_type": "code",
   "execution_count": 181,
   "metadata": {
    "collapsed": false
   },
   "outputs": [],
   "source": [
    "feature_file_list = os.listdir(os.path.join(repos_path, \"data/processed/\"))"
   ]
  },
  {
   "cell_type": "code",
   "execution_count": 182,
   "metadata": {
    "collapsed": false
   },
   "outputs": [
    {
     "data": {
      "text/plain": [
       "['.DS_Store',\n",
       " '.gitkeep',\n",
       " 'feature_breakouts_30_0.005_3.csv',\n",
       " 'features_dayfilter.csv',\n",
       " 'features_eemeter.csv',\n",
       " 'features_jmotif_inclassspecificity_168_6_14.csv',\n",
       " 'features_jmotif_inclassspecificity_24_8_8.csv',\n",
       " 'features_loadshape_errors.csv',\n",
       " 'features_normcons.csv',\n",
       " 'features_stl.csv',\n",
       " 'features_stl_weathernorm_weeklypattern.csv',\n",
       " 'features_stl_weeklypattern.csv',\n",
       " 'features_visdom.csv']"
      ]
     },
     "execution_count": 182,
     "metadata": {},
     "output_type": "execute_result"
    }
   ],
   "source": [
    "feature_file_list"
   ]
  },
  {
   "cell_type": "code",
   "execution_count": 183,
   "metadata": {
    "collapsed": false
   },
   "outputs": [],
   "source": [
    "feature_file_list = [\n",
    " 'feature_breakouts_30_0.005_3.csv',\n",
    " 'features_dayfilter.csv',\n",
    " 'features_eemeter.csv',\n",
    " 'features_jmotif_inclassspecificity_168_6_14.csv',\n",
    " 'features_jmotif_inclassspecificity_24_8_8.csv',\n",
    " 'features_loadshape_errors.csv',\n",
    " 'features_normcons.csv',\n",
    " 'features_stl.csv',\n",
    " 'features_stl_weathernorm_weeklypattern.csv',\n",
    " 'features_stl_weeklypattern.csv',\n",
    " 'features_visdom.csv']"
   ]
  },
  {
   "cell_type": "code",
   "execution_count": 184,
   "metadata": {
    "collapsed": true
   },
   "outputs": [],
   "source": [
    "temporal_file_list = os.listdir(os.path.join(repos_path, \"data/interim/\"))"
   ]
  },
  {
   "cell_type": "code",
   "execution_count": 185,
   "metadata": {
    "collapsed": false
   },
   "outputs": [
    {
     "name": "stdout",
     "output_type": "stream",
     "text": [
      "feature_breakouts_30_0.005_3.csv\n",
      "features_dayfilter.csv\n",
      "features_eemeter.csv\n",
      "features_jmotif_inclassspecificity_168_6_14.csv\n",
      "features_jmotif_inclassspecificity_24_8_8.csv\n",
      "features_loadshape_errors.csv\n",
      "features_normcons.csv\n",
      "features_stl.csv\n",
      "features_visdom.csv\n"
     ]
    }
   ],
   "source": [
    "features = []\n",
    "\n",
    "for filename in feature_file_list:\n",
    "    try:\n",
    "        df = pd.read_csv(os.path.join(repos_path, \"data/processed/\", filename), index_col=\"building_name\")\n",
    "        print filename\n",
    "        features.append(df)\n",
    "    except:\n",
    "        continue"
   ]
  },
  {
   "cell_type": "code",
   "execution_count": 186,
   "metadata": {
    "collapsed": false
   },
   "outputs": [],
   "source": [
    "features = pd.concat(features, axis=1)"
   ]
  },
  {
   "cell_type": "code",
   "execution_count": 187,
   "metadata": {
    "collapsed": false
   },
   "outputs": [
    {
     "name": "stdout",
     "output_type": "stream",
     "text": [
      "<class 'pandas.core.frame.DataFrame'>\n",
      "Index: 507 entries, Office_Abbey to UnivLab_Tracy\n",
      "Columns: 166 entries, BG_breakouts_max: to BG_visdom_t90t\n",
      "dtypes: float64(166)\n",
      "memory usage: 661.5+ KB\n"
     ]
    }
   ],
   "source": [
    "features.info()"
   ]
  },
  {
   "cell_type": "code",
   "execution_count": 189,
   "metadata": {
    "collapsed": false
   },
   "outputs": [],
   "source": [
    "features.to_csv(os.path.join(repos_path, \"data/processed/ALLFEATURES.CSV\"))"
   ]
  },
  {
   "cell_type": "code",
   "execution_count": null,
   "metadata": {
    "collapsed": true
   },
   "outputs": [],
   "source": []
  }
 ],
 "metadata": {
  "hide_input": false,
  "kernelspec": {
   "display_name": "Python 2",
   "language": "python",
   "name": "python2"
  },
  "language_info": {
   "codemirror_mode": {
    "name": "ipython",
    "version": 2
   },
   "file_extension": ".py",
   "mimetype": "text/x-python",
   "name": "python",
   "nbconvert_exporter": "python",
   "pygments_lexer": "ipython2",
   "version": "2.7.11"
  }
 },
 "nbformat": 4,
 "nbformat_minor": 0
}
