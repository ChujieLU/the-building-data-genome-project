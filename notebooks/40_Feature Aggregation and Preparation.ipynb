{
 "cells": [
  {
   "cell_type": "markdown",
   "metadata": {},
   "source": [
    "# Feature Aggregation and Preparation\n",
    "\n",
    "Clayton Miller -- miller.clayton@gmail.com\n",
    "\n",
    "The goal of this notebook is to prototype the feature creation process using all of the outputs from the previous work."
   ]
  },
  {
   "cell_type": "code",
   "execution_count": 32,
   "metadata": {
    "collapsed": true
   },
   "outputs": [],
   "source": [
    "import pandas as pd\n",
    "import seaborn as sns\n",
    "import os"
   ]
  },
  {
   "cell_type": "code",
   "execution_count": 33,
   "metadata": {
    "collapsed": true
   },
   "outputs": [],
   "source": [
    "%matplotlib inline"
   ]
  },
  {
   "cell_type": "code",
   "execution_count": 34,
   "metadata": {
    "collapsed": true
   },
   "outputs": [],
   "source": [
    "repos_path = \"/Users/Clayton/temporal-features-for-buildings/\""
   ]
  },
  {
   "cell_type": "code",
   "execution_count": 35,
   "metadata": {
    "collapsed": false
   },
   "outputs": [],
   "source": [
    "feature_file_list = os.listdir(os.path.join(repos_path, \"data/processed/\"))"
   ]
  },
  {
   "cell_type": "code",
   "execution_count": 36,
   "metadata": {
    "collapsed": false
   },
   "outputs": [
    {
     "data": {
      "text/plain": [
       "['.DS_Store',\n",
       " '.gitkeep',\n",
       " 'features_eemeter.csv',\n",
       " 'features_jmotif_inclassspecificity_168_6_14.csv',\n",
       " 'features_jmotif_inclassspecificity_24_8_8.csv',\n",
       " 'features_loadshape_errors.csv',\n",
       " 'features_stl_weathernorm_weeklypattern.csv',\n",
       " 'features_stl_weeklypattern.csv',\n",
       " 'features_visdom.csv']"
      ]
     },
     "execution_count": 36,
     "metadata": {},
     "output_type": "execute_result"
    }
   ],
   "source": [
    "feature_file_list"
   ]
  },
  {
   "cell_type": "code",
   "execution_count": 37,
   "metadata": {
    "collapsed": true
   },
   "outputs": [],
   "source": [
    "feature_file_list = [\n",
    " 'features_eemeter.csv',\n",
    " 'features_jmotif_inclassspecificity_168_6_14.csv',\n",
    " 'features_jmotif_inclassspecificity_24_8_8.csv',\n",
    " 'features_loadshape_errors.csv',\n",
    " 'features_stl_weathernorm_weeklypattern.csv',\n",
    " 'features_stl_weeklypattern.csv',\n",
    " 'features_visdom.csv']"
   ]
  },
  {
   "cell_type": "code",
   "execution_count": 38,
   "metadata": {
    "collapsed": true
   },
   "outputs": [],
   "source": [
    "temporal_file_list = os.listdir(os.path.join(repos_path, \"data/interim/\"))"
   ]
  },
  {
   "cell_type": "code",
   "execution_count": 39,
   "metadata": {
    "collapsed": false
   },
   "outputs": [
    {
     "data": {
      "text/plain": [
       "['.DS_Store',\n",
       " '.gitkeep',\n",
       " 'meta_open_archetypestagged.csv',\n",
       " 'temp_breakouts_30_0.005_3.csv',\n",
       " 'temp_dayfilter_dailyfreq_3_8h.csv',\n",
       " 'temp_eemeter_predictedcooling.csv',\n",
       " 'temp_eemeter_predictedheating.csv',\n",
       " 'temp_eemeter_predictedtotal.csv',\n",
       " 'temp_jmotif_dailyindexed_168_6_14.csv',\n",
       " 'temp_jmotif_dailyindexed_24_8_8.csv',\n",
       " 'temp_loadshape_predicted.csv',\n",
       " 'temp_open_utc_complete.csv',\n",
       " 'temp_stl_remainder.csv',\n",
       " 'temp_stl_trend.csv',\n",
       " 'temp_stl_weathernorm_remainder.csv',\n",
       " 'temp_stl_weathernorm_trend.csv']"
      ]
     },
     "execution_count": 39,
     "metadata": {},
     "output_type": "execute_result"
    }
   ],
   "source": [
    "temporal_file_list"
   ]
  },
  {
   "cell_type": "code",
   "execution_count": 40,
   "metadata": {
    "collapsed": true
   },
   "outputs": [],
   "source": [
    "temporal_file_list = [\n",
    " 'temp_dayfilter_dailyfreq_3_8h.csv',\n",
    "#  'meta_open_archetypestagged.csv',\n",
    " 'temp_breakouts_30_0.005_3.csv',\n",
    " 'temp_eemeter_predictedcooling.csv',\n",
    " 'temp_eemeter_predictedheating.csv',\n",
    " 'temp_eemeter_predictedtotal.csv',\n",
    " 'temp_jmotif_dailyindexed_168_6_14.csv',\n",
    " 'temp_jmotif_dailyindexed_24_8_8.csv',\n",
    "#  'temp_loadshape_predicted.csv',\n",
    "#  'temp_open_utc_complete.csv',\n",
    " 'temp_stl_remainder.csv',\n",
    " 'temp_stl_trend.csv',\n",
    " 'temp_stl_weathernorm_remainder.csv',\n",
    " 'temp_stl_weathernorm_trend.csv']"
   ]
  },
  {
   "cell_type": "code",
   "execution_count": 41,
   "metadata": {
    "collapsed": true
   },
   "outputs": [],
   "source": [
    "features = pd.DataFrame()"
   ]
  },
  {
   "cell_type": "code",
   "execution_count": 31,
   "metadata": {
    "collapsed": false,
    "scrolled": false
   },
   "outputs": [
    {
     "name": "stdout",
     "output_type": "stream",
     "text": [
      "features_eemeter.csv\n",
      "<class 'pandas.core.frame.DataFrame'>\n",
      "RangeIndex: 7 entries, 0 to 6\n",
      "Columns: 508 entries, Parameter to UnivLab_Aoife\n",
      "dtypes: float64(507), object(1)\n",
      "memory usage: 27.9+ KB\n",
      "features_jmotif_inclassspecificity_168_6_14.csv\n",
      "<class 'pandas.core.frame.DataFrame'>\n",
      "RangeIndex: 5 entries, 0 to 4\n",
      "Columns: 508 entries, classes to PrimClass_Angel\n",
      "dtypes: float64(507), object(1)\n",
      "memory usage: 19.9+ KB\n",
      "features_jmotif_inclassspecificity_24_8_8.csv\n",
      "<class 'pandas.core.frame.DataFrame'>\n",
      "RangeIndex: 5 entries, 0 to 4\n",
      "Columns: 508 entries, classes to PrimClass_Angel\n",
      "dtypes: float64(507), object(1)\n",
      "memory usage: 19.9+ KB\n",
      "features_loadshape_errors.csv\n",
      "<class 'pandas.core.frame.DataFrame'>\n",
      "RangeIndex: 9 entries, 0 to 8\n",
      "Columns: 508 entries, Unnamed: 0 to PrimClass_Jazmin\n",
      "dtypes: float64(507), object(1)\n",
      "memory usage: 35.8+ KB\n",
      "features_stl_weathernorm_weeklypattern.csv\n",
      "<class 'pandas.core.frame.DataFrame'>\n",
      "RangeIndex: 7 entries, 0 to 6\n",
      "Columns: 508 entries, Unnamed: 0 to UnivLab_Aoife\n",
      "dtypes: float64(507), object(1)\n",
      "memory usage: 27.9+ KB\n",
      "features_stl_weeklypattern.csv\n",
      "<class 'pandas.core.frame.DataFrame'>\n",
      "RangeIndex: 1706 entries, 0 to 1705\n",
      "Columns: 508 entries, timestamp to UnivLab_Aoife\n",
      "dtypes: float64(507), object(1)\n",
      "memory usage: 6.6+ MB\n",
      "features_visdom.csv\n",
      "<class 'pandas.core.frame.DataFrame'>\n",
      "RangeIndex: 507 entries, 0 to 506\n",
      "Data columns (total 98 columns):\n",
      "Unnamed: 0          507 non-null object\n",
      "Aug_dur             507 non-null float64\n",
      "Aug_max             507 non-null float64\n",
      "Aug_mean            507 non-null float64\n",
      "Aug_min             507 non-null float64\n",
      "Aug_mn2mx           507 non-null float64\n",
      "Aug_n2d             507 non-null float64\n",
      "Aug_range           507 non-null float64\n",
      "HOD.mean.1          507 non-null float64\n",
      "HOD.mean.10         507 non-null float64\n",
      "HOD.mean.11         507 non-null float64\n",
      "HOD.mean.12         507 non-null float64\n",
      "HOD.mean.13         507 non-null float64\n",
      "HOD.mean.14         507 non-null float64\n",
      "HOD.mean.15         507 non-null float64\n",
      "HOD.mean.16         507 non-null float64\n",
      "HOD.mean.17         507 non-null float64\n",
      "HOD.mean.18         507 non-null float64\n",
      "HOD.mean.19         507 non-null float64\n",
      "HOD.mean.2          507 non-null float64\n",
      "HOD.mean.20         507 non-null float64\n",
      "HOD.mean.21         507 non-null float64\n",
      "HOD.mean.22         507 non-null float64\n",
      "HOD.mean.23         507 non-null float64\n",
      "HOD.mean.24         507 non-null float64\n",
      "HOD.mean.3          507 non-null float64\n",
      "HOD.mean.4          507 non-null float64\n",
      "HOD.mean.5          507 non-null float64\n",
      "HOD.mean.6          507 non-null float64\n",
      "HOD.mean.7          507 non-null float64\n",
      "HOD.mean.8          507 non-null float64\n",
      "HOD.mean.9          507 non-null float64\n",
      "Jan_dur             507 non-null float64\n",
      "Jan_max             507 non-null float64\n",
      "Jan_mean            507 non-null float64\n",
      "Jan_min             507 non-null float64\n",
      "Jan_mn2mx           507 non-null float64\n",
      "Jan_n2d             507 non-null float64\n",
      "Jan_range           507 non-null float64\n",
      "daily.kw.max.var    507 non-null float64\n",
      "daily.kw.min.var    507 non-null float64\n",
      "daily.kw.var        507 non-null float64\n",
      "date.first          507 non-null float64\n",
      "date.last           507 non-null float64\n",
      "dur                 507 non-null float64\n",
      "kw.mean             507 non-null float64\n",
      "kw.mean.annual      507 non-null float64\n",
      "kw.mean.summer      507 non-null float64\n",
      "kw.mean.winter      507 non-null float64\n",
      "kw.total            507 non-null float64\n",
      "kw.total.Apr        507 non-null float64\n",
      "kw.total.Aug        507 non-null float64\n",
      "kw.total.Dec        507 non-null float64\n",
      "kw.total.Feb        507 non-null float64\n",
      "kw.total.Jan        507 non-null float64\n",
      "kw.total.Jul        507 non-null float64\n",
      "kw.total.Jun        507 non-null float64\n",
      "kw.total.Mar        507 non-null float64\n",
      "kw.total.May        507 non-null float64\n",
      "kw.total.Nov        507 non-null float64\n",
      "kw.total.Oct        507 non-null float64\n",
      "kw.total.Sep        507 non-null float64\n",
      "kw.tout.cor         507 non-null float64\n",
      "kw.var              507 non-null float64\n",
      "kw.var.summer       507 non-null float64\n",
      "kw.var.winter       507 non-null float64\n",
      "kw90                507 non-null float64\n",
      "max                 507 non-null float64\n",
      "max.97.             507 non-null float64\n",
      "max.MA              507 non-null float64\n",
      "max.day.date        507 non-null float64\n",
      "max.day.kw          507 non-null float64\n",
      "max.day.pct         507 non-null float64\n",
      "max.day.tout        507 non-null float64\n",
      "max.hr.date         507 non-null float64\n",
      "max.hr.kw           507 non-null float64\n",
      "max.hr.tout         506 non-null float64\n",
      "maxHOD              507 non-null float64\n",
      "mean                507 non-null float64\n",
      "min                 507 non-null float64\n",
      "min.3.              507 non-null float64\n",
      "min.day.date        507 non-null float64\n",
      "min.day.kw          507 non-null float64\n",
      "min.day.pct         507 non-null float64\n",
      "min.day.tout        507 non-null float64\n",
      "min.hr.date         507 non-null float64\n",
      "min.hr.kw           507 non-null float64\n",
      "min.hr.tout         507 non-null float64\n",
      "mn2mx               507 non-null float64\n",
      "n2d                 507 non-null float64\n",
      "nObs                507 non-null float64\n",
      "nObs.gas            507 non-null float64\n",
      "nv2dv               507 non-null float64\n",
      "range               507 non-null float64\n",
      "t10kw               507 non-null float64\n",
      "t10t                507 non-null float64\n",
      "t90kw               507 non-null float64\n",
      "t90t                507 non-null float64\n",
      "dtypes: float64(97), object(1)\n",
      "memory usage: 388.2+ KB\n"
     ]
    }
   ],
   "source": [
    "for filename in feature_file_list:\n",
    "    df = pd.read_csv(os.path.join(repos_path, \"data/processed/\", filename))\n",
    "    print filename\n",
    "    df.info()"
   ]
  },
  {
   "cell_type": "code",
   "execution_count": null,
   "metadata": {
    "collapsed": true
   },
   "outputs": [],
   "source": []
  }
 ],
 "metadata": {
  "hide_input": false,
  "kernelspec": {
   "display_name": "Python 2",
   "language": "python",
   "name": "python2"
  },
  "language_info": {
   "codemirror_mode": {
    "name": "ipython",
    "version": 2
   },
   "file_extension": ".py",
   "mimetype": "text/x-python",
   "name": "python",
   "nbconvert_exporter": "python",
   "pygments_lexer": "ipython2",
   "version": "2.7.11"
  }
 },
 "nbformat": 4,
 "nbformat_minor": 0
}
